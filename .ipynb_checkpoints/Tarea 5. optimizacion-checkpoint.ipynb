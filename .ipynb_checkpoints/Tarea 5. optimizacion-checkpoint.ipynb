{
 "cells": [
  {
   "cell_type": "code",
   "execution_count": null,
   "id": "a9df20cc",
   "metadata": {},
   "outputs": [],
   "source": [
    "!pip install  pulp"
   ]
  },
  {
   "cell_type": "code",
   "execution_count": 18,
   "id": "ddda141e",
   "metadata": {},
   "outputs": [],
   "source": [
    "import pulp as pp"
   ]
  },
  {
   "cell_type": "code",
   "execution_count": 19,
   "id": "2dd292a7",
   "metadata": {},
   "outputs": [],
   "source": [
    "import pandas as pd #"
   ]
  },
  {
   "cell_type": "code",
   "execution_count": 20,
   "id": "7a36fd74",
   "metadata": {},
   "outputs": [],
   "source": [
    "import pandas as pd"
   ]
  },
  {
   "cell_type": "markdown",
   "id": "19a01405",
   "metadata": {},
   "source": [
    "EJERCICIO 1"
   ]
  },
  {
   "cell_type": "markdown",
   "id": "4a709398",
   "metadata": {},
   "source": [
    "1. **Creamos las variables**"
   ]
  },
  {
   "cell_type": "code",
   "execution_count": null,
   "id": "2d7999f7",
   "metadata": {},
   "outputs": [],
   "source": [
    "modelo = pp.LpProblem(name='Cantidad-suplemento', # asignamos nombre al problema\n",
    "                     sense=pp.LpMaximize) # tipo de problema, en este caso vamos a realizar un maximización"
   ]
  },
  {
   "cell_type": "code",
   "execution_count": null,
   "id": "c3f114e6",
   "metadata": {},
   "outputs": [],
   "source": [
    "VV = pp.LpVariable(name=\"VegaVita\",  # este es el nombre de VV\n",
    "                    lowBound=0,  # indicamos que sea mayor o igual a cero (o sea no negativa)\n",
    "                    cat='Continuous') # para que acepte decimales\n",
    "\n",
    "\n",
    "HH = pp.LpVariable(name=\"HappyHealth\", #cantidad de HH\n",
    "                 lowBound=0,\n",
    "                 cat='Continuous')\n"
   ]
  },
  {
   "cell_type": "code",
   "execution_count": null,
   "id": "4be728de",
   "metadata": {},
   "outputs": [],
   "source": [
    "VV_precio=0.2\n",
    "HH_precio=0.3\n",
    "\n",
    "objeto1=VV_precio*VV + HH_precio*HH"
   ]
  },
  {
   "cell_type": "markdown",
   "id": "0d363785",
   "metadata": {},
   "source": [
    "2. La cantidad de suplementos"
   ]
  },
  {
   "cell_type": "code",
   "execution_count": 9,
   "id": "40544ae8",
   "metadata": {},
   "outputs": [],
   "source": [
    "Nutrientes = ['Vitamina A', 'Calcio', 'Hierro', 'Niacina', 'Magnesio']\n",
    "VegaV = [20, 500, 9, 2, 60]\n",
    "HappyH = [30, 250, 2, 10, 90]\n",
    "Necesidad_paciente = [60, 1000, 18, 20, 360]\n",
    "\n",
    "Tabla = pd.DataFrame({\n",
    "    'Nutrientes': Nutrientes,\n",
    "    'VV (mg)': VegaV,\n",
    "    'HH (mg)': HappyH,\n",
    "    'Necesidad Paciente (mg)': Necesidad_paciente\n",
    "})"
   ]
  },
  {
   "cell_type": "code",
   "execution_count": 8,
   "id": "87c542e8",
   "metadata": {},
   "outputs": [
    {
     "data": {
      "text/html": [
       "<div>\n",
       "<style scoped>\n",
       "    .dataframe tbody tr th:only-of-type {\n",
       "        vertical-align: middle;\n",
       "    }\n",
       "\n",
       "    .dataframe tbody tr th {\n",
       "        vertical-align: top;\n",
       "    }\n",
       "\n",
       "    .dataframe thead th {\n",
       "        text-align: right;\n",
       "    }\n",
       "</style>\n",
       "<table border=\"1\" class=\"dataframe\">\n",
       "  <thead>\n",
       "    <tr style=\"text-align: right;\">\n",
       "      <th></th>\n",
       "      <th>Nutrientes</th>\n",
       "      <th>VV (mg)</th>\n",
       "      <th>HH (mg)</th>\n",
       "      <th>Necesidad Paciente (mg)</th>\n",
       "    </tr>\n",
       "  </thead>\n",
       "  <tbody>\n",
       "    <tr>\n",
       "      <th>0</th>\n",
       "      <td>Vitamina A</td>\n",
       "      <td>20</td>\n",
       "      <td>30</td>\n",
       "      <td>60</td>\n",
       "    </tr>\n",
       "    <tr>\n",
       "      <th>1</th>\n",
       "      <td>Calcio</td>\n",
       "      <td>500</td>\n",
       "      <td>250</td>\n",
       "      <td>1000</td>\n",
       "    </tr>\n",
       "    <tr>\n",
       "      <th>2</th>\n",
       "      <td>Hierro</td>\n",
       "      <td>9</td>\n",
       "      <td>2</td>\n",
       "      <td>18</td>\n",
       "    </tr>\n",
       "    <tr>\n",
       "      <th>3</th>\n",
       "      <td>Niacina</td>\n",
       "      <td>2</td>\n",
       "      <td>10</td>\n",
       "      <td>20</td>\n",
       "    </tr>\n",
       "    <tr>\n",
       "      <th>4</th>\n",
       "      <td>Magnesio</td>\n",
       "      <td>60</td>\n",
       "      <td>90</td>\n",
       "      <td>360</td>\n",
       "    </tr>\n",
       "  </tbody>\n",
       "</table>\n",
       "</div>"
      ],
      "text/plain": [
       "   Nutrientes  VV (mg)  HH (mg)  Necesidad Paciente (mg)\n",
       "0  Vitamina A       20       30                       60\n",
       "1      Calcio      500      250                     1000\n",
       "2      Hierro        9        2                       18\n",
       "3     Niacina        2       10                       20\n",
       "4    Magnesio       60       90                      360"
      ]
     },
     "execution_count": 8,
     "metadata": {},
     "output_type": "execute_result"
    }
   ],
   "source": [
    "Tabla"
   ]
  },
  {
   "cell_type": "code",
   "execution_count": 17,
   "id": "604b6f07",
   "metadata": {},
   "outputs": [
    {
     "ename": "NameError",
     "evalue": "name 'VV' is not defined",
     "output_type": "error",
     "traceback": [
      "\u001b[1;31m---------------------------------------------------------------------------\u001b[0m",
      "\u001b[1;31mNameError\u001b[0m                                 Traceback (most recent call last)",
      "Cell \u001b[1;32mIn[17], line 2\u001b[0m\n\u001b[0;32m      1\u001b[0m C1 \u001b[38;5;241m=\u001b[39m pp\u001b[38;5;241m.\u001b[39mLpConstraint(name\u001b[38;5;241m=\u001b[39m\u001b[38;5;124m\"\u001b[39m\u001b[38;5;124mVitaminaC\u001b[39m\u001b[38;5;124m\"\u001b[39m,\n\u001b[1;32m----> 2\u001b[0m                      e\u001b[38;5;241m=\u001b[39m\u001b[38;5;241m20\u001b[39m \u001b[38;5;241m*\u001b[39m VV \u001b[38;5;241m+\u001b[39m \u001b[38;5;241m30\u001b[39m \u001b[38;5;241m*\u001b[39m HH,\n\u001b[0;32m      3\u001b[0m                      rhs\u001b[38;5;241m=\u001b[39m\u001b[38;5;241m60\u001b[39m,\n\u001b[0;32m      4\u001b[0m                      sense\u001b[38;5;241m=\u001b[39mpp\u001b[38;5;241m.\u001b[39mLpConstraintGE)\n",
      "\u001b[1;31mNameError\u001b[0m: name 'VV' is not defined"
     ]
    }
   ],
   "source": [
    "C1 = pp.LpConstraint(name=\"VitaminaC\",\n",
    "                     e=20 * VV + 30 * HH,\n",
    "                     rhs=60,\n",
    "                     sense=pp.LpConstraintGE)"
   ]
  },
  {
   "cell_type": "code",
   "execution_count": 14,
   "id": "9a1f084c",
   "metadata": {},
   "outputs": [
    {
     "ename": "IndentationError",
     "evalue": "unexpected indent (4149622506.py, line 8)",
     "output_type": "error",
     "traceback": [
      "\u001b[1;36m  Cell \u001b[1;32mIn[14], line 8\u001b[1;36m\u001b[0m\n\u001b[1;33m    e=20VV + 30HH, rhs=60,\u001b[0m\n\u001b[1;37m    ^\u001b[0m\n\u001b[1;31mIndentationError\u001b[0m\u001b[1;31m:\u001b[0m unexpected indent\n"
     ]
    }
   ],
   "source": [
    "#Las condicionantes \n",
    "\n",
    "#C2= pp.LpConstraint(name='Oil Constraint',\n",
    " #                   e= 1*Oil, rhs=3000000,\n",
    "  #                  sense=pp.LpConstraintGE) # 'rule' >= 3000000 (LpConstraintGE)\n",
    "\n",
    "C1=pp.LpConstraint(name=\"VitaminaC\"), \n",
    "                    e=20VV + 30HH, rhs=60, \n",
    "                    sense=pp.LpConstraintGE) #>= 60\n",
    "C2=pp.LpConstraint(name=\"Calcio\"), \n",
    "                    e=500VV + 250HH , rhs=1000, \n",
    "                    sense=pp.LpConstraintGE) #>= 1000\n",
    "C3=pp.LpConstraint(name=\"Hierro\"), \n",
    "                    e=9VV + 2HH , rhs=18, \n",
    "                    sense=pp.LpConstraintGE) #>= 18\n",
    "C4=pp.LpConstraint(name=\"Niacina\"), \n",
    "                    e=2VV + 10HH , rhs=20, \n",
    "                    sense=pp.LpConstraintGE) #>= 20\n",
    "C5=pp.LpConstraint(name=\"Magnesio\"), \n",
    "                    e=60VV + 90HH , rhs=360, \n",
    "                    sense=pp.LpConstraintGE) #>= 360  \n",
    "\n",
    "    # \"pp.LpConstraintGE\" es \"Greater Than or Equal\" o \"mayor o igual que\"\n",
    "    #Otras opciones: \"pp.LpConstraintEQ\" para \"Equal\" o \"igual a\"\n",
    "    #O \"pp.LpConstraintLE\" para \"Less Than or Equal\" o menor o igual que"
   ]
  },
  {
   "cell_type": "markdown",
   "id": "b88a418d",
   "metadata": {},
   "source": [
    "Creación del modelo de optimización "
   ]
  },
  {
   "cell_type": "code",
   "execution_count": null,
   "id": "ffd4801f",
   "metadata": {},
   "outputs": [],
   "source": [
    "#En primer lugar, se crea el modelo y se le agrega la función a ser optimizada. A continuación, se agregan las condicionantes\n",
    "\n",
    "Modelo+=objeto1 #agramos el objeto función\n",
    "\n",
    "#agregamos cada condicionante\n",
    "Modelo+=C1\n",
    "Modelo+=C2\n",
    "Modelo+=C3\n",
    "Modelo+=C4\n",
    "Modelo+=C5"
   ]
  },
  {
   "cell_type": "code",
   "execution_count": null,
   "id": "b9258ba3",
   "metadata": {},
   "outputs": [],
   "source": [
    "solucion = pp.listSolvers()\n",
    "print(solucion)"
   ]
  },
  {
   "cell_type": "code",
   "execution_count": null,
   "id": "56a24433",
   "metadata": {},
   "outputs": [],
   "source": [
    "Modelo.solve();"
   ]
  },
  {
   "cell_type": "code",
   "execution_count": null,
   "id": "13a761e1",
   "metadata": {},
   "outputs": [],
   "source": [
    "Resultado={\"Model Status\":pp.LpStatus[Modelo.status]}\n",
    "Resultado.update({\"Optimal Solution\":pp.value(Modelo.objective)})\n",
    "Resultado.update({v.name: v.varValue for v in Modelo.variables()})\n",
    "Resultado"
   ]
  },
  {
   "cell_type": "code",
   "execution_count": null,
   "id": "0b45c9ab",
   "metadata": {},
   "outputs": [],
   "source": [
    "pd.DataFrame.from_dict(Resultado,orient='index').T.set_index('Model Status').style.format('{:,}')"
   ]
  }
 ],
 "metadata": {
  "kernelspec": {
   "display_name": "Python 3 (ipykernel)",
   "language": "python",
   "name": "python3"
  },
  "language_info": {
   "codemirror_mode": {
    "name": "ipython",
    "version": 3
   },
   "file_extension": ".py",
   "mimetype": "text/x-python",
   "name": "python",
   "nbconvert_exporter": "python",
   "pygments_lexer": "ipython3",
   "version": "3.11.3"
  }
 },
 "nbformat": 4,
 "nbformat_minor": 5
}
