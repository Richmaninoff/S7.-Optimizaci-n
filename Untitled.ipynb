{
 "cells": [
  {
   "cell_type": "code",
   "execution_count": 1,
   "id": "d88877ed",
   "metadata": {},
   "outputs": [],
   "source": [
    "import pulp as pp"
   ]
  },
  {
   "cell_type": "code",
   "execution_count": 2,
   "id": "64a734a8",
   "metadata": {},
   "outputs": [],
   "source": [
    "model = pp.LpProblem(name='diet-problem', # just the name\n",
    "                     sense=pp.LpMinimize) # type of problem\n"
   ]
  },
  {
   "cell_type": "code",
   "execution_count": 3,
   "id": "8b0001c9",
   "metadata": {},
   "outputs": [],
   "source": [
    "VegaV = pp.LpVariable(name=\"VegaVita\",  # just the name\n",
    "                    lowBound=0,  # ensure non-negativity\n",
    "                    cat='Continuous') # here: you accept decimal values\n",
    "\n",
    "HappyH = pp.LpVariable(name=\"HappyHealth\",\n",
    "                 lowBound=0,\n",
    "                 cat='Continuous')\n"
   ]
  },
  {
   "cell_type": "code",
   "execution_count": 4,
   "id": "8a1ebb8a",
   "metadata": {},
   "outputs": [],
   "source": [
    "VegaCoeff=0.2\n",
    "HappyCoeff=0.3\n",
    "obj_func = VegaCoeff*VegaV + HappyCoeff*HappyH\n"
   ]
  },
  {
   "cell_type": "code",
   "execution_count": 5,
   "id": "7eb26f36",
   "metadata": {},
   "outputs": [],
   "source": [
    "# SUBJECT TO:\n",
    "C1= pp.LpConstraint(name='Vitamin C Constraint',   # just the name\n",
    "                    e= 20*VegaV + 30*HappyH, rhs=60, # linear combination of constraint and rhs \n",
    "                    sense=pp.LpConstraintGE) \n",
    "C2= pp.LpConstraint(name='Calcium Constraint',\n",
    "                    e= 500*VegaV + 250*HappyH, rhs=1000,\n",
    "                    sense=pp.LpConstraintGE) \n",
    "C3= pp.LpConstraint(name='Iron Constraint',\n",
    "                    e= 9*VegaV + 2*HappyH, rhs=18,\n",
    "                    sense=pp.LpConstraintGE, )\n",
    "C4= pp.LpConstraint(name='Niacin Constraint',\n",
    "                    e= 2*VegaV + 10*HappyH, rhs=20,\n",
    "                    sense=pp.LpConstraintGE, )\n",
    "C5= pp.LpConstraint(name='Magnesium Constraint',\n",
    "                    e= 60*VegaV + 90*HappyH, rhs=360,\n",
    "                    sense=pp.LpConstraintGE, )\n"
   ]
  },
  {
   "cell_type": "code",
   "execution_count": 6,
   "id": "56f9fee2",
   "metadata": {},
   "outputs": [],
   "source": [
    "model += obj_func\n",
    "model += C1\n",
    "model += C2\n",
    "model += C3\n",
    "model += C4\n",
    "model += C5\n"
   ]
  },
  {
   "cell_type": "code",
   "execution_count": 7,
   "id": "95559faf",
   "metadata": {},
   "outputs": [],
   "source": [
    "solverToUse = pp.COIN_CMD(msg=False)\n",
    "model.solve();\n"
   ]
  },
  {
   "cell_type": "code",
   "execution_count": 8,
   "id": "7d9f5e82",
   "metadata": {},
   "outputs": [
    {
     "data": {
      "text/plain": [
       "{'Model Status': 'Optimal',\n",
       " 'Optimal Solution': 1.2,\n",
       " 'HappyHealth': 3.1304348,\n",
       " 'VegaVita': 1.3043478}"
      ]
     },
     "execution_count": 8,
     "metadata": {},
     "output_type": "execute_result"
    }
   ],
   "source": [
    "import pandas as pd\n",
    "Results={\"Model Status\":pp.LpStatus[model.status]}\n",
    "Results.update({\"Optimal Solution\":pp.value(model.objective)})\n",
    "Results.update({v.name: v.varValue for v in model.variables()})\n",
    "Results\n"
   ]
  },
  {
   "cell_type": "code",
   "execution_count": 9,
   "id": "54d2c077",
   "metadata": {},
   "outputs": [
    {
     "data": {
      "text/html": [
       "<style type=\"text/css\">\n",
       "</style>\n",
       "<table id=\"T_6f213\">\n",
       "  <thead>\n",
       "    <tr>\n",
       "      <th class=\"blank level0\" >&nbsp;</th>\n",
       "      <th id=\"T_6f213_level0_col0\" class=\"col_heading level0 col0\" >Optimal Solution</th>\n",
       "      <th id=\"T_6f213_level0_col1\" class=\"col_heading level0 col1\" >HappyHealth</th>\n",
       "      <th id=\"T_6f213_level0_col2\" class=\"col_heading level0 col2\" >VegaVita</th>\n",
       "    </tr>\n",
       "    <tr>\n",
       "      <th class=\"index_name level0\" >Model Status</th>\n",
       "      <th class=\"blank col0\" >&nbsp;</th>\n",
       "      <th class=\"blank col1\" >&nbsp;</th>\n",
       "      <th class=\"blank col2\" >&nbsp;</th>\n",
       "    </tr>\n",
       "  </thead>\n",
       "  <tbody>\n",
       "    <tr>\n",
       "      <th id=\"T_6f213_level0_row0\" class=\"row_heading level0 row0\" >Optimal</th>\n",
       "      <td id=\"T_6f213_row0_col0\" class=\"data row0 col0\" >1.2</td>\n",
       "      <td id=\"T_6f213_row0_col1\" class=\"data row0 col1\" >3.1304348</td>\n",
       "      <td id=\"T_6f213_row0_col2\" class=\"data row0 col2\" >1.3043478</td>\n",
       "    </tr>\n",
       "  </tbody>\n",
       "</table>\n"
      ],
      "text/plain": [
       "<pandas.io.formats.style.Styler at 0x1fb36549e90>"
      ]
     },
     "execution_count": 9,
     "metadata": {},
     "output_type": "execute_result"
    }
   ],
   "source": [
    "pd.DataFrame.from_dict(Results,orient='index').T.set_index('Model Status').style.format('{:,}')"
   ]
  },
  {
   "cell_type": "code",
   "execution_count": null,
   "id": "dcaa88cc",
   "metadata": {},
   "outputs": [],
   "source": []
  }
 ],
 "metadata": {
  "kernelspec": {
   "display_name": "Python 3 (ipykernel)",
   "language": "python",
   "name": "python3"
  },
  "language_info": {
   "codemirror_mode": {
    "name": "ipython",
    "version": 3
   },
   "file_extension": ".py",
   "mimetype": "text/x-python",
   "name": "python",
   "nbconvert_exporter": "python",
   "pygments_lexer": "ipython3",
   "version": "3.11.3"
  }
 },
 "nbformat": 4,
 "nbformat_minor": 5
}
